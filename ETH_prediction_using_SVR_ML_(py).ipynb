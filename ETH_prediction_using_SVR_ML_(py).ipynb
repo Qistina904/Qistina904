{
  "nbformat": 4,
  "nbformat_minor": 0,
  "metadata": {
    "colab": {
      "name": "ETH prediction using SVR ML (py)",
      "provenance": [],
      "collapsed_sections": [],
      "authorship_tag": "ABX9TyP4PmXZ+koR2VGx2FZSFwyb",
      "include_colab_link": true
    },
    "kernelspec": {
      "name": "python3",
      "display_name": "Python 3"
    },
    "language_info": {
      "name": "python"
    }
  },
  "cells": [
    {
      "cell_type": "markdown",
      "metadata": {
        "id": "view-in-github",
        "colab_type": "text"
      },
      "source": [
        "<a href=\"https://colab.research.google.com/github/Qistina904/Qistina904/blob/main/ETH_prediction_using_SVR_ML_(py).ipynb\" target=\"_parent\"><img src=\"https://colab.research.google.com/assets/colab-badge.svg\" alt=\"Open In Colab\"/></a>"
      ]
    },
    {
      "cell_type": "code",
      "metadata": {
        "id": "FzBM8VhQUURO"
      },
      "source": [
        "# Description: this program attemos to predict the future price of ETH"
      ],
      "execution_count": null,
      "outputs": []
    },
    {
      "cell_type": "code",
      "metadata": {
        "id": "V1Yzpay3Uyvh"
      },
      "source": [
        "#import the libraries \n",
        "import numpy as np\n",
        "import pandas as pd\n",
        "from sklearn.svm import SVR\n",
        "import matplotlib.pyplot as plt\n",
        "plt.style.use('fivethirtyeight')"
      ],
      "execution_count": null,
      "outputs": []
    },
    {
      "cell_type": "code",
      "metadata": {
        "colab": {
          "resources": {
            "http://localhost:8080/nbextensions/google.colab/files.js": {
              "data": "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",
              "ok": true,
              "headers": [
                [
                  "content-type",
                  "application/javascript"
                ]
              ],
              "status": 200,
              "status_text": ""
            }
          },
          "base_uri": "https://localhost:8080/",
          "height": 112
        },
        "id": "8-rkMUa-VZ9m",
        "outputId": "e8e9a668-eac4-4215-f945-e100fd98cbb5"
      },
      "source": [
        "#Load the ETh data\n",
        "from google.colab import files\n",
        "files.upload()"
      ],
      "execution_count": null,
      "outputs": [
        {
          "output_type": "display_data",
          "data": {
            "text/html": [
              "\n",
              "     <input type=\"file\" id=\"files-8c88b849-4662-449d-bced-13cc935c1a66\" name=\"files[]\" multiple disabled\n",
              "        style=\"border:none\" />\n",
              "     <output id=\"result-8c88b849-4662-449d-bced-13cc935c1a66\">\n",
              "      Upload widget is only available when the cell has been executed in the\n",
              "      current browser session. Please rerun this cell to enable.\n",
              "      </output>\n",
              "      <script src=\"/nbextensions/google.colab/files.js\"></script> "
            ],
            "text/plain": [
              "<IPython.core.display.HTML object>"
            ]
          },
          "metadata": {}
        },
        {
          "output_type": "stream",
          "name": "stdout",
          "text": [
            "Saving ETH-USD (6).csv to ETH-USD (6).csv\n"
          ]
        },
        {
          "output_type": "execute_result",
          "data": {
            "text/plain": [
              "{'ETH-USD (6).csv': b'Date,Open,High,Low,Close,Adj Close,Volume\\n2021-06-02,2634.456055,2801.392334,2555.401367,2706.125000,2706.125000,27723267359\\n2021-06-03,2708.376221,2891.254883,2667.684326,2855.126465,2855.126465,30038207402\\n2021-06-04,2857.165527,2857.165527,2562.637451,2688.195068,2688.195068,34173841611\\n2021-06-05,2691.619385,2817.484863,2558.233643,2630.576904,2630.576904,30496672724\\n2021-06-06,2629.748779,2743.441162,2616.162354,2715.092773,2715.092773,25311639414\\n2021-06-07,2713.047363,2845.185059,2583.995117,2590.263184,2590.263184,30600111277\\n2021-06-08,2594.602295,2620.846191,2315.546631,2517.438721,2517.438721,41909736778\\n2021-06-09,2510.199219,2625.070557,2412.197754,2608.267090,2608.267090,36075832186\\n2021-06-10,2611.142578,2619.957764,2435.401611,2471.518555,2471.518555,28753626390\\n2021-06-11,2472.858887,2495.414795,2326.869629,2353.768799,2353.768799,24832564195\\n2021-06-12,2354.752197,2447.227783,2265.758057,2372.484375,2372.484375,25724364410\\n2021-06-13,2372.690186,2547.367920,2312.640137,2508.391602,2508.391602,27092945370\\n2021-06-14,2508.770508,2606.432861,2469.388184,2537.891113,2537.891113,26964576331\\n2021-06-15,2587.762695,2639.229248,2515.153076,2610.936768,2610.936768,29005279219\\n2021-06-16,2544.864746,2554.628906,2354.350586,2367.663574,2367.663574,24101926180\\n2021-06-17,2367.306396,2457.175537,2312.301514,2372.001953,2372.001953,21871633186\\n2021-06-18,2374.586914,2377.195068,2147.308350,2231.733154,2231.733154,22752818388\\n2021-06-19,2235.159180,2278.415039,2168.885010,2178.499023,2178.499023,18765854896\\n2021-06-20,2171.337891,2275.382813,2049.962646,2246.364502,2246.364502,22535930423\\n2021-06-21,2245.317871,2259.464111,1867.185425,1888.447510,1888.447510,33745173825\\n2021-06-22,1886.667603,1993.159790,1707.600586,1874.950073,1874.950073,35547251725\\n2021-06-23,1878.625000,2043.530396,1827.571533,1989.736328,1989.736328,28408659206\\n2021-06-24,1968.957397,2032.339355,1887.432007,1988.456299,1988.456299,20272845769\\n2021-06-25,1989.215820,2017.759521,1794.400391,1813.217285,1813.217285,22774334998\\n2021-06-26,1810.884277,1850.179810,1719.559448,1829.239258,1829.239258,20637542361\\n2021-06-27,1830.996948,1979.958130,1811.245850,1978.894653,1978.894653,19885474742\\n2021-06-28,1981.386475,2139.805420,1963.615479,2079.657471,2079.657471,25514602841\\n2021-06-29,2083.448730,2242.238770,2076.240234,2160.768311,2160.768311,24815124419\\n2021-06-30,2164.216309,2282.989014,2090.760742,2274.547607,2274.547607,25828056268\\n2021-07-01,2274.397461,2274.397461,2081.081055,2113.605469,2113.605469,29061701793\\n2021-07-02,2109.892578,2155.596436,2021.824829,2150.040283,2150.040283,31796212554\\n2021-07-03,2150.834961,2237.567139,2117.590088,2226.114258,2226.114258,17433361641\\n2021-07-04,2226.550293,2384.286865,2190.837646,2321.724121,2321.724121,18787107473\\n2021-07-05,2321.922852,2321.922852,2163.041504,2198.582520,2198.582520,20103794829\\n2021-07-06,2197.919434,2346.294922,2197.919434,2324.679443,2324.679443,20891861314\\n2021-07-07,2323.208496,2403.773438,2298.026855,2315.161865,2315.161865,22398345285\\n2021-07-08,2317.949219,2324.006836,2089.414307,2120.026367,2120.026367,23188123689\\n2021-07-09,2115.573975,2185.376221,2051.066650,2146.692383,2146.692383,23029574602\\n2021-07-10,2146.999756,2190.124023,2081.923584,2111.403564,2111.403564,17581542471\\n2021-07-11,2110.875732,2172.653320,2083.803711,2139.664795,2139.664795,14705386138\\n2021-07-12,2140.506836,2167.710205,2011.018921,2036.721069,2036.721069,17768129077\\n2021-07-13,2034.098389,2040.693604,1922.577881,1940.083984,1940.083984,16621628658\\n2021-07-14,1941.167847,2015.107422,1869.223145,1994.331299,1994.331299,17342819679\\n2021-07-15,1994.712036,2037.742554,1883.272217,1911.175659,1911.175659,15688092552\\n2021-07-16,1916.598389,1959.696289,1853.590332,1880.382935,1880.382935,14884569147\\n2021-07-17,1876.881348,1917.597900,1855.590820,1898.825195,1898.825195,13364282076\\n2021-07-18,1900.194336,1988.336426,1883.012573,1895.552124,1895.552124,13791868728\\n2021-07-19,1893.053589,1916.118042,1807.909912,1817.296631,1817.296631,14157735481\\n2021-07-20,1819.082031,1836.998047,1722.050781,1787.510742,1787.510742,17368597636\\n2021-07-21,1786.276245,2025.680420,1759.023315,1990.970825,1990.970825,21253359756\\n2021-07-22,1994.822876,2044.116455,1954.297852,2025.202759,2025.202759,17495480331\\n2021-07-23,2025.105713,2129.441162,2000.436279,2124.776611,2124.776611,16200392492\\n2021-07-24,2123.961182,2197.649414,2107.323486,2189.218750,2189.218750,16057446601\\n2021-07-25,2187.145508,2194.438232,2108.829834,2191.373779,2191.373779,14566483636\\n2021-07-26,2191.309814,2428.817139,2177.329590,2233.366699,2233.366699,29614324233\\n2021-07-27,2230.197021,2316.950195,2154.731201,2298.333496,2298.333496,23067480378\\n2021-07-28,2302.081299,2341.777832,2250.914063,2296.545410,2296.545410,18991302378\\n2021-07-29,2299.011963,2396.451904,2273.404785,2380.956787,2380.956787,16313373113\\n2021-07-30,2382.545166,2469.704834,2322.337158,2466.961426,2466.961426,20212848934\\n2021-07-31,2461.575684,2551.161133,2423.816162,2536.209961,2536.209961,18001710283\\n2021-08-01,2530.462891,2695.429443,2520.931885,2561.852051,2561.852051,22697987055\\n2021-08-02,2557.774658,2665.730957,2511.375244,2610.153320,2610.153320,22162754104\\n2021-08-03,2609.413086,2630.314209,2449.353516,2502.349609,2502.349609,22696753413\\n2021-08-04,2508.544922,2764.443604,2463.469482,2724.619873,2724.619873,25038698173\\n2021-08-05,2725.669678,2840.430664,2540.684082,2827.328857,2827.328857,31057928075\\n2021-08-06,2827.503418,2944.903320,2727.792725,2890.941650,2890.941650,26528577879\\n2021-08-07,2891.707520,3170.229736,2868.535645,3157.238770,3157.238770,33081467129\\n2021-08-08,3161.232666,3184.604004,2951.747314,3013.732666,3013.732666,28433638008\\n2021-08-09,3012.885742,3185.701172,2900.926025,3167.856201,3167.856201,31983260936\\n2021-08-10,3163.050049,3228.940674,3059.229004,3141.691162,3141.691162,27605221710\\n2021-08-11,3142.830322,3269.209473,3122.916504,3164.245117,3164.245117,26729035052\\n2021-08-12,3164.175781,3236.314697,2984.166992,3043.414307,3043.414307,25403699845\\n2021-08-13,3049.001221,3324.671631,3037.676025,3322.211670,3322.211670,23868866254\\n2021-08-14,3322.762695,3329.281006,3214.519775,3265.443359,3265.443359,19860862133\\n2021-08-15,3266.276123,3320.084229,3117.791748,3310.504150,3310.504150,22166205051\\n2021-08-16,3309.422119,3333.994873,3139.778564,3156.509521,3156.509521,23080039949\\n2021-08-17,3149.380371,3288.812744,2996.468262,3014.845947,3014.845947,25509056745\\n2021-08-18,3011.963623,3124.976074,2959.028320,3020.089844,3020.089844,21539248425\\n2021-08-19,3019.126953,3184.435547,2963.150146,3182.702148,3182.702148,19546290360\\n2021-08-20,3182.162598,3298.246582,3178.103760,3286.935303,3286.935303,20885619828\\n2021-08-21,3286.931641,3307.351563,3209.866211,3226.083984,3226.083984,18113977628\\n2021-08-22,3226.227295,3272.733154,3142.007080,3242.115479,3242.115479,15983278460\\n2021-08-23,3241.357422,3373.384277,3235.851318,3319.257324,3319.257324,20511110509\\n2021-08-24,3324.855469,3358.688232,3154.121338,3172.456299,3172.456299,20131028906\\n2021-08-25,3174.269775,3248.727295,3086.114990,3224.915283,3224.915283,18902728235\\n2021-08-26,3228.747314,3249.655273,3060.228760,3100.325439,3100.325439,17405668117\\n2021-08-27,3096.406006,3281.840576,3064.485107,3270.600830,3270.600830,18489602004\\n2021-08-28,3275.104492,3284.845947,3217.403564,3244.403320,3244.403320,13709633698\\n2021-08-29,3246.770996,3283.235596,3158.840332,3227.002686,3227.002686,13296586731\\n2021-08-30,3227.192627,3346.581055,3151.444580,3224.374268,3224.374268,19306924485\\n2021-08-31,3227.758057,3466.992188,3195.216553,3433.732666,3433.732666,27280502987'}"
            ]
          },
          "metadata": {},
          "execution_count": 90
        }
      ]
    },
    {
      "cell_type": "code",
      "metadata": {
        "colab": {
          "base_uri": "https://localhost:8080/",
          "height": 423
        },
        "id": "0GnA66yOeQbH",
        "outputId": "aecd915a-d875-43d6-912b-692535a8e0d3"
      },
      "source": [
        "#Read in the data\n",
        "df = pd.read_csv('ETH-USD (6).csv')\n",
        "#set the date as the index\n",
        "df = df.set_index(pd.DatetimeIndex(df['Date'].values))\n",
        "#show the data \n",
        "df"
      ],
      "execution_count": null,
      "outputs": [
        {
          "output_type": "execute_result",
          "data": {
            "text/html": [
              "<div>\n",
              "<style scoped>\n",
              "    .dataframe tbody tr th:only-of-type {\n",
              "        vertical-align: middle;\n",
              "    }\n",
              "\n",
              "    .dataframe tbody tr th {\n",
              "        vertical-align: top;\n",
              "    }\n",
              "\n",
              "    .dataframe thead th {\n",
              "        text-align: right;\n",
              "    }\n",
              "</style>\n",
              "<table border=\"1\" class=\"dataframe\">\n",
              "  <thead>\n",
              "    <tr style=\"text-align: right;\">\n",
              "      <th></th>\n",
              "      <th>Date</th>\n",
              "      <th>Open</th>\n",
              "      <th>High</th>\n",
              "      <th>Low</th>\n",
              "      <th>Close</th>\n",
              "      <th>Adj Close</th>\n",
              "      <th>Volume</th>\n",
              "    </tr>\n",
              "  </thead>\n",
              "  <tbody>\n",
              "    <tr>\n",
              "      <th>2021-06-02</th>\n",
              "      <td>2021-06-02</td>\n",
              "      <td>2634.456055</td>\n",
              "      <td>2801.392334</td>\n",
              "      <td>2555.401367</td>\n",
              "      <td>2706.125000</td>\n",
              "      <td>2706.125000</td>\n",
              "      <td>27723267359</td>\n",
              "    </tr>\n",
              "    <tr>\n",
              "      <th>2021-06-03</th>\n",
              "      <td>2021-06-03</td>\n",
              "      <td>2708.376221</td>\n",
              "      <td>2891.254883</td>\n",
              "      <td>2667.684326</td>\n",
              "      <td>2855.126465</td>\n",
              "      <td>2855.126465</td>\n",
              "      <td>30038207402</td>\n",
              "    </tr>\n",
              "    <tr>\n",
              "      <th>2021-06-04</th>\n",
              "      <td>2021-06-04</td>\n",
              "      <td>2857.165527</td>\n",
              "      <td>2857.165527</td>\n",
              "      <td>2562.637451</td>\n",
              "      <td>2688.195068</td>\n",
              "      <td>2688.195068</td>\n",
              "      <td>34173841611</td>\n",
              "    </tr>\n",
              "    <tr>\n",
              "      <th>2021-06-05</th>\n",
              "      <td>2021-06-05</td>\n",
              "      <td>2691.619385</td>\n",
              "      <td>2817.484863</td>\n",
              "      <td>2558.233643</td>\n",
              "      <td>2630.576904</td>\n",
              "      <td>2630.576904</td>\n",
              "      <td>30496672724</td>\n",
              "    </tr>\n",
              "    <tr>\n",
              "      <th>2021-06-06</th>\n",
              "      <td>2021-06-06</td>\n",
              "      <td>2629.748779</td>\n",
              "      <td>2743.441162</td>\n",
              "      <td>2616.162354</td>\n",
              "      <td>2715.092773</td>\n",
              "      <td>2715.092773</td>\n",
              "      <td>25311639414</td>\n",
              "    </tr>\n",
              "    <tr>\n",
              "      <th>...</th>\n",
              "      <td>...</td>\n",
              "      <td>...</td>\n",
              "      <td>...</td>\n",
              "      <td>...</td>\n",
              "      <td>...</td>\n",
              "      <td>...</td>\n",
              "      <td>...</td>\n",
              "    </tr>\n",
              "    <tr>\n",
              "      <th>2021-08-27</th>\n",
              "      <td>2021-08-27</td>\n",
              "      <td>3096.406006</td>\n",
              "      <td>3281.840576</td>\n",
              "      <td>3064.485107</td>\n",
              "      <td>3270.600830</td>\n",
              "      <td>3270.600830</td>\n",
              "      <td>18489602004</td>\n",
              "    </tr>\n",
              "    <tr>\n",
              "      <th>2021-08-28</th>\n",
              "      <td>2021-08-28</td>\n",
              "      <td>3275.104492</td>\n",
              "      <td>3284.845947</td>\n",
              "      <td>3217.403564</td>\n",
              "      <td>3244.403320</td>\n",
              "      <td>3244.403320</td>\n",
              "      <td>13709633698</td>\n",
              "    </tr>\n",
              "    <tr>\n",
              "      <th>2021-08-29</th>\n",
              "      <td>2021-08-29</td>\n",
              "      <td>3246.770996</td>\n",
              "      <td>3283.235596</td>\n",
              "      <td>3158.840332</td>\n",
              "      <td>3227.002686</td>\n",
              "      <td>3227.002686</td>\n",
              "      <td>13296586731</td>\n",
              "    </tr>\n",
              "    <tr>\n",
              "      <th>2021-08-30</th>\n",
              "      <td>2021-08-30</td>\n",
              "      <td>3227.192627</td>\n",
              "      <td>3346.581055</td>\n",
              "      <td>3151.444580</td>\n",
              "      <td>3224.374268</td>\n",
              "      <td>3224.374268</td>\n",
              "      <td>19306924485</td>\n",
              "    </tr>\n",
              "    <tr>\n",
              "      <th>2021-08-31</th>\n",
              "      <td>2021-08-31</td>\n",
              "      <td>3227.758057</td>\n",
              "      <td>3466.992188</td>\n",
              "      <td>3195.216553</td>\n",
              "      <td>3433.732666</td>\n",
              "      <td>3433.732666</td>\n",
              "      <td>27280502987</td>\n",
              "    </tr>\n",
              "  </tbody>\n",
              "</table>\n",
              "<p>91 rows × 7 columns</p>\n",
              "</div>"
            ],
            "text/plain": [
              "                  Date         Open  ...    Adj Close       Volume\n",
              "2021-06-02  2021-06-02  2634.456055  ...  2706.125000  27723267359\n",
              "2021-06-03  2021-06-03  2708.376221  ...  2855.126465  30038207402\n",
              "2021-06-04  2021-06-04  2857.165527  ...  2688.195068  34173841611\n",
              "2021-06-05  2021-06-05  2691.619385  ...  2630.576904  30496672724\n",
              "2021-06-06  2021-06-06  2629.748779  ...  2715.092773  25311639414\n",
              "...                ...          ...  ...          ...          ...\n",
              "2021-08-27  2021-08-27  3096.406006  ...  3270.600830  18489602004\n",
              "2021-08-28  2021-08-28  3275.104492  ...  3244.403320  13709633698\n",
              "2021-08-29  2021-08-29  3246.770996  ...  3227.002686  13296586731\n",
              "2021-08-30  2021-08-30  3227.192627  ...  3224.374268  19306924485\n",
              "2021-08-31  2021-08-31  3227.758057  ...  3433.732666  27280502987\n",
              "\n",
              "[91 rows x 7 columns]"
            ]
          },
          "metadata": {},
          "execution_count": 91
        }
      ]
    },
    {
      "cell_type": "code",
      "metadata": {
        "id": "jRDFZ3XIfCAN"
      },
      "source": [
        "future_days = 5 "
      ],
      "execution_count": null,
      "outputs": []
    },
    {
      "cell_type": "code",
      "metadata": {
        "colab": {
          "base_uri": "https://localhost:8080/",
          "height": 423
        },
        "id": "G-pR_m3gfFgh",
        "outputId": "f00c92f5-e401-4538-b922-658678b5cd49"
      },
      "source": [
        "#create a new column  \n",
        "df[str(future_days)+'_Day_Price_Forecast'] = df[['Close']].shift(-future_days)\n",
        "#Show the data\n",
        "df[['Close',str(future_days)+ '_Day_Price_Forecast']]"
      ],
      "execution_count": null,
      "outputs": [
        {
          "output_type": "execute_result",
          "data": {
            "text/html": [
              "<div>\n",
              "<style scoped>\n",
              "    .dataframe tbody tr th:only-of-type {\n",
              "        vertical-align: middle;\n",
              "    }\n",
              "\n",
              "    .dataframe tbody tr th {\n",
              "        vertical-align: top;\n",
              "    }\n",
              "\n",
              "    .dataframe thead th {\n",
              "        text-align: right;\n",
              "    }\n",
              "</style>\n",
              "<table border=\"1\" class=\"dataframe\">\n",
              "  <thead>\n",
              "    <tr style=\"text-align: right;\">\n",
              "      <th></th>\n",
              "      <th>Close</th>\n",
              "      <th>5_Day_Price_Forecast</th>\n",
              "    </tr>\n",
              "  </thead>\n",
              "  <tbody>\n",
              "    <tr>\n",
              "      <th>2021-06-02</th>\n",
              "      <td>2706.125000</td>\n",
              "      <td>2590.263184</td>\n",
              "    </tr>\n",
              "    <tr>\n",
              "      <th>2021-06-03</th>\n",
              "      <td>2855.126465</td>\n",
              "      <td>2517.438721</td>\n",
              "    </tr>\n",
              "    <tr>\n",
              "      <th>2021-06-04</th>\n",
              "      <td>2688.195068</td>\n",
              "      <td>2608.267090</td>\n",
              "    </tr>\n",
              "    <tr>\n",
              "      <th>2021-06-05</th>\n",
              "      <td>2630.576904</td>\n",
              "      <td>2471.518555</td>\n",
              "    </tr>\n",
              "    <tr>\n",
              "      <th>2021-06-06</th>\n",
              "      <td>2715.092773</td>\n",
              "      <td>2353.768799</td>\n",
              "    </tr>\n",
              "    <tr>\n",
              "      <th>...</th>\n",
              "      <td>...</td>\n",
              "      <td>...</td>\n",
              "    </tr>\n",
              "    <tr>\n",
              "      <th>2021-08-27</th>\n",
              "      <td>3270.600830</td>\n",
              "      <td>NaN</td>\n",
              "    </tr>\n",
              "    <tr>\n",
              "      <th>2021-08-28</th>\n",
              "      <td>3244.403320</td>\n",
              "      <td>NaN</td>\n",
              "    </tr>\n",
              "    <tr>\n",
              "      <th>2021-08-29</th>\n",
              "      <td>3227.002686</td>\n",
              "      <td>NaN</td>\n",
              "    </tr>\n",
              "    <tr>\n",
              "      <th>2021-08-30</th>\n",
              "      <td>3224.374268</td>\n",
              "      <td>NaN</td>\n",
              "    </tr>\n",
              "    <tr>\n",
              "      <th>2021-08-31</th>\n",
              "      <td>3433.732666</td>\n",
              "      <td>NaN</td>\n",
              "    </tr>\n",
              "  </tbody>\n",
              "</table>\n",
              "<p>91 rows × 2 columns</p>\n",
              "</div>"
            ],
            "text/plain": [
              "                  Close  5_Day_Price_Forecast\n",
              "2021-06-02  2706.125000           2590.263184\n",
              "2021-06-03  2855.126465           2517.438721\n",
              "2021-06-04  2688.195068           2608.267090\n",
              "2021-06-05  2630.576904           2471.518555\n",
              "2021-06-06  2715.092773           2353.768799\n",
              "...                 ...                   ...\n",
              "2021-08-27  3270.600830                   NaN\n",
              "2021-08-28  3244.403320                   NaN\n",
              "2021-08-29  3227.002686                   NaN\n",
              "2021-08-30  3224.374268                   NaN\n",
              "2021-08-31  3433.732666                   NaN\n",
              "\n",
              "[91 rows x 2 columns]"
            ]
          },
          "metadata": {},
          "execution_count": 93
        }
      ]
    },
    {
      "cell_type": "code",
      "metadata": {
        "colab": {
          "base_uri": "https://localhost:8080/"
        },
        "id": "LHlNqP8FgLZg",
        "outputId": "cdb80266-36b3-4838-97a4-db5463aaf2a4"
      },
      "source": [
        "X = np.array(df[['Close']])\n",
        "X = X[:df.shape[0] - future_days]\n",
        "print(X)"
      ],
      "execution_count": null,
      "outputs": [
        {
          "output_type": "stream",
          "name": "stdout",
          "text": [
            "[[2706.125   ]\n",
            " [2855.126465]\n",
            " [2688.195068]\n",
            " [2630.576904]\n",
            " [2715.092773]\n",
            " [2590.263184]\n",
            " [2517.438721]\n",
            " [2608.26709 ]\n",
            " [2471.518555]\n",
            " [2353.768799]\n",
            " [2372.484375]\n",
            " [2508.391602]\n",
            " [2537.891113]\n",
            " [2610.936768]\n",
            " [2367.663574]\n",
            " [2372.001953]\n",
            " [2231.733154]\n",
            " [2178.499023]\n",
            " [2246.364502]\n",
            " [1888.44751 ]\n",
            " [1874.950073]\n",
            " [1989.736328]\n",
            " [1988.456299]\n",
            " [1813.217285]\n",
            " [1829.239258]\n",
            " [1978.894653]\n",
            " [2079.657471]\n",
            " [2160.768311]\n",
            " [2274.547607]\n",
            " [2113.605469]\n",
            " [2150.040283]\n",
            " [2226.114258]\n",
            " [2321.724121]\n",
            " [2198.58252 ]\n",
            " [2324.679443]\n",
            " [2315.161865]\n",
            " [2120.026367]\n",
            " [2146.692383]\n",
            " [2111.403564]\n",
            " [2139.664795]\n",
            " [2036.721069]\n",
            " [1940.083984]\n",
            " [1994.331299]\n",
            " [1911.175659]\n",
            " [1880.382935]\n",
            " [1898.825195]\n",
            " [1895.552124]\n",
            " [1817.296631]\n",
            " [1787.510742]\n",
            " [1990.970825]\n",
            " [2025.202759]\n",
            " [2124.776611]\n",
            " [2189.21875 ]\n",
            " [2191.373779]\n",
            " [2233.366699]\n",
            " [2298.333496]\n",
            " [2296.54541 ]\n",
            " [2380.956787]\n",
            " [2466.961426]\n",
            " [2536.209961]\n",
            " [2561.852051]\n",
            " [2610.15332 ]\n",
            " [2502.349609]\n",
            " [2724.619873]\n",
            " [2827.328857]\n",
            " [2890.94165 ]\n",
            " [3157.23877 ]\n",
            " [3013.732666]\n",
            " [3167.856201]\n",
            " [3141.691162]\n",
            " [3164.245117]\n",
            " [3043.414307]\n",
            " [3322.21167 ]\n",
            " [3265.443359]\n",
            " [3310.50415 ]\n",
            " [3156.509521]\n",
            " [3014.845947]\n",
            " [3020.089844]\n",
            " [3182.702148]\n",
            " [3286.935303]\n",
            " [3226.083984]\n",
            " [3242.115479]\n",
            " [3319.257324]\n",
            " [3172.456299]\n",
            " [3224.915283]\n",
            " [3100.325439]]\n"
          ]
        }
      ]
    },
    {
      "cell_type": "code",
      "metadata": {
        "colab": {
          "base_uri": "https://localhost:8080/"
        },
        "id": "K68WGjfige68",
        "outputId": "269617bd-de6c-463f-ea6a-48590497f881"
      },
      "source": [
        "y =np.array(df[str(future_days)+ '_Day_Price_Forecast'])\n",
        "y = y[:-future_days]\n",
        "print(y)"
      ],
      "execution_count": null,
      "outputs": [
        {
          "output_type": "stream",
          "name": "stdout",
          "text": [
            "[2590.263184 2517.438721 2608.26709  2471.518555 2353.768799 2372.484375\n",
            " 2508.391602 2537.891113 2610.936768 2367.663574 2372.001953 2231.733154\n",
            " 2178.499023 2246.364502 1888.44751  1874.950073 1989.736328 1988.456299\n",
            " 1813.217285 1829.239258 1978.894653 2079.657471 2160.768311 2274.547607\n",
            " 2113.605469 2150.040283 2226.114258 2321.724121 2198.58252  2324.679443\n",
            " 2315.161865 2120.026367 2146.692383 2111.403564 2139.664795 2036.721069\n",
            " 1940.083984 1994.331299 1911.175659 1880.382935 1898.825195 1895.552124\n",
            " 1817.296631 1787.510742 1990.970825 2025.202759 2124.776611 2189.21875\n",
            " 2191.373779 2233.366699 2298.333496 2296.54541  2380.956787 2466.961426\n",
            " 2536.209961 2561.852051 2610.15332  2502.349609 2724.619873 2827.328857\n",
            " 2890.94165  3157.23877  3013.732666 3167.856201 3141.691162 3164.245117\n",
            " 3043.414307 3322.21167  3265.443359 3310.50415  3156.509521 3014.845947\n",
            " 3020.089844 3182.702148 3286.935303 3226.083984 3242.115479 3319.257324\n",
            " 3172.456299 3224.915283 3100.325439 3270.60083  3244.40332  3227.002686\n",
            " 3224.374268 3433.732666]\n"
          ]
        }
      ]
    },
    {
      "cell_type": "code",
      "metadata": {
        "id": "wFPIunkBg2M4"
      },
      "source": [
        "#Split the data\n",
        "from sklearn.model_selection import train_test_split\n",
        "x_train, x_test, y_train, y_test = train_test_split(X, y, test_size = 0.2)\n"
      ],
      "execution_count": null,
      "outputs": []
    },
    {
      "cell_type": "code",
      "metadata": {
        "colab": {
          "base_uri": "https://localhost:8080/"
        },
        "id": "wP3y2VmFhKJ8",
        "outputId": "9a836365-c1d0-45a6-f6bc-e5aa69024b33"
      },
      "source": [
        "from sklearn.svm import SVR\n",
        "svr_rbf = SVR(kernel='rbf', C=1e3, gamma = 0.00001)\n",
        "svr_rbf.fit(x_train, y_train)"
      ],
      "execution_count": null,
      "outputs": [
        {
          "output_type": "execute_result",
          "data": {
            "text/plain": [
              "SVR(C=1000.0, cache_size=200, coef0=0.0, degree=3, epsilon=0.1, gamma=1e-05,\n",
              "    kernel='rbf', max_iter=-1, shrinking=True, tol=0.001, verbose=False)"
            ]
          },
          "metadata": {},
          "execution_count": 98
        }
      ]
    },
    {
      "cell_type": "code",
      "metadata": {
        "colab": {
          "base_uri": "https://localhost:8080/"
        },
        "id": "6kd6Si9ikD57",
        "outputId": "a88b110d-7ece-4d13-8163-df14360065ef"
      },
      "source": [
        "svr_rbf_confidence = svr_rbf.score(x_test, y_test)\n",
        "print('svr_rbf accurac:', svr_rbf_confidence )"
      ],
      "execution_count": null,
      "outputs": [
        {
          "output_type": "stream",
          "name": "stdout",
          "text": [
            "svr_rbf accurac: -0.16136244755741866\n"
          ]
        }
      ]
    },
    {
      "cell_type": "code",
      "metadata": {
        "colab": {
          "base_uri": "https://localhost:8080/"
        },
        "id": "DvxJ9K2AkUAK",
        "outputId": "8a9d9615-7d72-4fbd-e92f-7fa031e95c98"
      },
      "source": [
        "svm_prediction = svr_rbf.predict(x_test)\n",
        "print(svm_prediction)"
      ],
      "execution_count": null,
      "outputs": [
        {
          "output_type": "stream",
          "name": "stdout",
          "text": [
            "[2662.49549945 2331.6567591  2077.32211765 3088.1336959  2471.9468958\n",
            " 2134.32407527 2323.82219974 2209.87431831 2455.40504983 2219.2817783\n",
            " 2475.96520028 2116.40835052 2149.88719823 2484.84469945 1996.88087498\n",
            " 2335.13766297 2540.86824564 2174.70955945]\n"
          ]
        }
      ]
    },
    {
      "cell_type": "code",
      "metadata": {
        "colab": {
          "base_uri": "https://localhost:8080/"
        },
        "id": "1ur9eSKakqJz",
        "outputId": "c05fa15f-708f-4d7b-c6f2-01179f95990f"
      },
      "source": [
        "print(y_test)"
      ],
      "execution_count": null,
      "outputs": [
        {
          "output_type": "stream",
          "name": "stdout",
          "text": [
            "[2608.26709  2146.692383 2324.679443 2517.438721 2231.733154 2189.21875\n",
            " 2036.721069 2120.026367 2610.936768 2536.209961 2508.391602 2315.161865\n",
            " 1988.456299 2827.328857 2233.366699 2139.664795 2246.364502 2111.403564]\n"
          ]
        }
      ]
    },
    {
      "cell_type": "code",
      "metadata": {
        "colab": {
          "base_uri": "https://localhost:8080/",
          "height": 343
        },
        "id": "NbXadaISk3G5",
        "outputId": "26647e44-76a3-429d-e79c-003cfd9035be"
      },
      "source": [
        "plt.figure(figsize=(20,4))\n",
        "plt.plot(svm_prediction, label ='Prediction', lw=2, alpha = 0.7)\n",
        "plt.plot(y_test, label ='Actual', lw=2, alpha = .7)\n",
        "plt.title('Prediction vs Actual')\n",
        "plt.ylabel('Price in USD')\n",
        "plt.xlabel('Time')\n",
        "plt.legend()\n",
        "plt.xticks(rotation = 45)\n",
        "plt.show()\n"
      ],
      "execution_count": null,
      "outputs": [
        {
          "output_type": "display_data",
          "data": {
            "image/png": "[encoded data removed]",
            "text/plain": [
              "<Figure size 1440x288 with 1 Axes>"
            ]
          },
          "metadata": {}
        }
      ]
    },
    {
      "cell_type": "code",
      "metadata": {
        "id": "iSFtGI31lcna"
      },
      "source": [
        ""
      ],
      "execution_count": null,
      "outputs": []
    }
  ]
}